{
 "cells": [
  {
   "cell_type": "markdown",
   "metadata": {
    "id": "pnkPpigAazur"
   },
   "source": [
    "# Importing libraries and data loading\n",
    "\n"
   ]
  },
  {
   "cell_type": "code",
   "execution_count": null,
   "metadata": {
    "id": "8s22MMRQRD7u"
   },
   "outputs": [],
   "source": [
    "#Set Working Directory\n",
    "%cd /content/drive/MyDrive/Personal/Forecasting Models and Time Series for Business in Python 2021"
   ]
  },
  {
   "cell_type": "code",
   "execution_count": null,
   "metadata": {
    "id": "pcXogq0kQvpK"
   },
   "outputs": [],
   "source": [
    "#importing libraries\n",
    "import pandas as pd"
   ]
  },
  {
   "cell_type": "code",
   "execution_count": null,
   "metadata": {
    "id": "nw20luFXQ9kS"
   },
   "outputs": [],
   "source": [
    "#get data\n",
    "data = pd.read_csv(\"Daily Bike Sharing.csv\", index_col=\"dteday\", parse_dates=True)\n",
    "data.head()"
   ]
  },
  {
   "cell_type": "code",
   "execution_count": null,
   "metadata": {
    "id": "43PwtMrHDJJz"
   },
   "outputs": [],
   "source": [
    "#Selecting variables\n",
    "dataset = data.loc[:, [\"cnt\", \"holiday\", \"workingday\", \"weathersit\", \n",
    "                       \"temp\", \"atemp\", \"hum\", \"windspeed\"]]"
   ]
  },
  {
   "cell_type": "markdown",
   "metadata": {
    "id": "m7NhRW2VbHwF"
   },
   "source": [
    "# Data Transformation"
   ]
  },
  {
   "cell_type": "code",
   "execution_count": null,
   "metadata": {
    "id": "ezv-WxgxRjJs"
   },
   "outputs": [],
   "source": [
    "#rename forecasting variable\n",
    "dataset = dataset.rename(columns = {'cnt' : 'y'})\n",
    "dataset.head()"
   ]
  },
  {
   "cell_type": "code",
   "execution_count": null,
   "metadata": {
    "id": "zRwSamEnRpHq"
   },
   "outputs": [],
   "source": [
    "#index\n",
    "dataset.index\n",
    "data = data.asfreq(\"D\")"
   ]
  },
  {
   "cell_type": "markdown",
   "metadata": {
    "id": "fymqFlTxJ6Ad"
   },
   "source": [
    "# Visualization"
   ]
  },
  {
   "cell_type": "code",
   "execution_count": null,
   "metadata": {
    "id": "cGd580fpR-g1"
   },
   "outputs": [],
   "source": [
    "#Visualization\n",
    "dataset[\"y\"].plot(figsize = (12,8))"
   ]
  }
 ],
 "metadata": {
  "colab": {
   "authorship_tag": "ABX9TyP4lK0YEHaSJ/WWjkqChrKC",
   "collapsed_sections": [],
   "mount_file_id": "1GKUDaixt9ICp1WarkHOCnhB-uotwj5af",
   "name": "Introduction to Forecasting.ipynb",
   "provenance": []
  },
  "kernelspec": {
   "display_name": "Python 3 (ipykernel)",
   "language": "python",
   "name": "python3"
  },
  "language_info": {
   "codemirror_mode": {
    "name": "ipython",
    "version": 3
   },
   "file_extension": ".py",
   "mimetype": "text/x-python",
   "name": "python",
   "nbconvert_exporter": "python",
   "pygments_lexer": "ipython3",
   "version": "3.9.12"
  }
 },
 "nbformat": 4,
 "nbformat_minor": 1
}
